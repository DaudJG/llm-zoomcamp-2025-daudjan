{
 "cells": [
  {
   "cell_type": "code",
   "execution_count": 1,
   "id": "b7c0597d",
   "metadata": {},
   "outputs": [],
   "source": [
    "import pandas as pd\n",
    "import numpy as np\n",
    "from pathlib import Path\n",
    "from sklearn.feature_extraction.text import TfidfVectorizer, CountVectorizer\n",
    "from sklearn.metrics.pairwise import cosine_similarity\n",
    "import json\n",
    "from typing import Union\n",
    "\n",
    "\n",
    "pd.set_option(\"display.max_colwidth\", 120)"
   ]
  },
  {
   "cell_type": "code",
   "execution_count": 2,
   "id": "6dc36a08",
   "metadata": {},
   "outputs": [],
   "source": [
    "def file_exists(filepath: str) -> bool:\n",
    "    doc_path = Path(filepath)\n",
    "    if not doc_path.exists():\n",
    "        raise FileNotFoundError(\n",
    "            f\"Dataset not found at {doc_path}. Run load_faq_data.py first or check the correct path is given.\"\n",
    "        )\n",
    "    return f\"File exists in {doc_path.resolve()}\"\n"
   ]
  },
  {
   "cell_type": "code",
   "execution_count": 3,
   "id": "34e91386",
   "metadata": {},
   "outputs": [
    {
     "data": {
      "text/plain": [
       "'File exists in /home/daudf/llm-zoomcamp-2025-daudjan/01-intro-rag/data/documents.json'"
      ]
     },
     "execution_count": 3,
     "metadata": {},
     "output_type": "execute_result"
    }
   ],
   "source": [
    "docs_path = Path(\"./data/documents.json\")\n",
    "\n",
    "file_exists(docs_path)"
   ]
  },
  {
   "cell_type": "code",
   "execution_count": 4,
   "id": "b4c482aa",
   "metadata": {},
   "outputs": [],
   "source": [
    "def load_json(filepath: Union[str, Path]) -> list[dict]:\n",
    "    \"\"\"Read a JSON file and return parsed Python object.\"\"\"\n",
    "    with open(filepath, \"r\", encoding=\"utf-8\") as f:\n",
    "        return json.load(f)\n"
   ]
  },
  {
   "cell_type": "code",
   "execution_count": 5,
   "id": "8a3223ed",
   "metadata": {},
   "outputs": [],
   "source": [
    "data = load_json(docs_path)"
   ]
  }
 ],
 "metadata": {
  "kernelspec": {
   "display_name": "llm-zoomcamp-2025-daudjan",
   "language": "python",
   "name": "python3"
  },
  "language_info": {
   "codemirror_mode": {
    "name": "ipython",
    "version": 3
   },
   "file_extension": ".py",
   "mimetype": "text/x-python",
   "name": "python",
   "nbconvert_exporter": "python",
   "pygments_lexer": "ipython3",
   "version": "3.12.3"
  }
 },
 "nbformat": 4,
 "nbformat_minor": 5
}
